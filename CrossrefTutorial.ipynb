{
 "cells": [
  {
   "cell_type": "markdown",
   "metadata": {},
   "source": [
    "# Intro\n",
    "This is a general walkthrough of how to use the Habanero library to retrieve Crossref URLs to fulltext articles, and then download those fulltext articles using Wiley's API.\n",
    "\n",
    "#### Prereqs\n",
    "You should have logged in to https://apps.crossref.org/clickthrough/researchers and selected the licenses you are willing to accept. Note institutional licenses supercede these clickthrough licenses, *but* you'll still need to agree to them to get the API keys for those licenses.  You will need to have accepted Wiley's TDM agreement for the purprose of this tutorial.\n",
    "\n",
    "#### Getting started:\n",
    "First let's make sure we have these libraries installed and loaded"
   ]
  },
  {
   "cell_type": "code",
   "execution_count": null,
   "metadata": {},
   "outputs": [],
   "source": [
    "from habanero import Crossref\n",
    "import requests\n",
    "import logging\n",
    "import sys\n",
    "import time\n",
    "import re"
   ]
  },
  {
   "cell_type": "markdown",
   "metadata": {},
   "source": [
    "We'll be using a few libraries to run our code. Noteably, the habanero library for accessing Crossref (as opposed to curl commands), the requests library (again as opposed to curl commands) and re (the regular expression matching tool, used just to simplify the title of the articles).\n",
    "\n",
    "#### Loading our information\n",
    "\n",
    "For both Crossref and Wiley, they expect some information, Crossref wants contact information for something called the \"polite pool\" (just a way to get better service, and contact you if there is a problem with your script), and Wiley needs to know you have the correct API key to access their stuff. \n",
    "\n",
    "You can store these in a file, which we'll load in the next section."
   ]
  },
  {
   "cell_type": "code",
   "execution_count": null,
   "metadata": {},
   "outputs": [],
   "source": [
    "\n",
    "#for the stand alone program you can run it at the command prompt using:\n",
    "# useage ~python wiley_doi_retrieval.py \"myContactFile.txt\" \"DOIfile.txt\"\n",
    "\n",
    "# myContactFile.txt should have format:\n",
    "# your_url\n",
    "# your_email\n",
    "# your_wiley_api_token\n",
    "#contactFile = sys.argv[1]\n",
    "contactFile = \"contact_info.txt\"\n",
    "\n",
    "# store your contact info to be on the polite list (crossref) as well as your Wiley API token\n",
    "# alternatively edit this section to just load your API token\n",
    "with open(contactFile, \"r\") as fp:\n",
    "    base_url = fp.readline().rstrip('\\n')\n",
    "    mailto = fp.readline().rstrip('\\n')\n",
    "    clickThroughKey = fp.readline().rstrip('\\n')\n",
    "\n",
    "# setup Crossref\n",
    "cr = Crossref()\n",
    "Crossref(base_url=base_url)\n",
    "Crossref(mailto=mailto)\n"
   ]
  },
  {
   "cell_type": "markdown",
   "metadata": {},
   "source": [
    "We also need to load a list of DOIs to retrieve."
   ]
  },
  {
   "cell_type": "code",
   "execution_count": null,
   "metadata": {},
   "outputs": [],
   "source": [
    "\n",
    "# load DOIs\n",
    "#The DOI file should look like a text file with line after line of DOIs:\n",
    "#10.234234/235235\n",
    "#122.4334234/15151253\n",
    "#etc.....\n",
    "\n",
    "#doiFile = sys.argv[2]\n",
    "doiFile = \"doi_list.txt\"\n",
    "doiList = []\n",
    "with open(doiFile, 'r') as fp:\n",
    "    for line in fp:\n",
    "        doiList.append(line.rstrip('\\n'))\n",
    "\n"
   ]
  },
  {
   "cell_type": "markdown",
   "metadata": {},
   "source": [
    "Finally, before we get started, it might be good to set some tracking info (in case your API requests get rejected)."
   ]
  },
  {
   "cell_type": "code",
   "execution_count": null,
   "metadata": {},
   "outputs": [],
   "source": [
    "# setup logging environment\n",
    "logging.getLogger().setLevel(logging.DEBUG)\n",
    "requests_log = logging.getLogger(\"requests.packages.urllib3\")\n",
    "requests_log.setLevel(logging.DEBUG)\n",
    "requests_log.propagate = True\n",
    "\n"
   ]
  },
  {
   "cell_type": "markdown",
   "metadata": {},
   "source": [
    "#### Getting URLs from CrossRef\n",
    "For the first part we need to get the links to the full text pdfs. We'll use Crossref to grab them, and then store the URL along with the title of the article."
   ]
  },
  {
   "cell_type": "code",
   "execution_count": null,
   "metadata": {},
   "outputs": [],
   "source": [
    "# retrieve links to DOIs through crossref:\n",
    "articleList = []\n",
    "for doi in doiList:\n",
    "    print(\"searching for DOI: \" + doi )\n",
    "    res = cr.works(ids=doi)\n",
    "    print(\"found \"+ res['message']['title'][0])\n",
    "    article = res['message']\n",
    "    print(\"getting link to: \" +article['title'][0])\n",
    "    if article['link'][0]['intended-application'] == 'text-mining':  #double check you get the right url\n",
    "        #store as a tuple with (URL,title)\n",
    "        print(\"success\")\n",
    "        articleList.append((article['link'][0]['URL'], re.sub(r'\\W+','',article['title'][0])))\n",
    "    else:\n",
    "        print(\"url error\")\n",
    "        break\n",
    "\n",
    "\n"
   ]
  },
  {
   "cell_type": "markdown",
   "metadata": {},
   "source": [
    "#### Getting the PDFs\n",
    "Finally, we'll download and save the PDFs by making a request for each article from Wiley's servers."
   ]
  },
  {
   "cell_type": "code",
   "execution_count": null,
   "metadata": {},
   "outputs": [],
   "source": [
    "# retrieve PDFs through Wiley API (Can fork this and change this to other API's e.g. elsevier if needed)\n",
    "header = {'CR-Clickthrough-Client-Token': clickThroughKey}\n",
    "for article in articleList:\n",
    "    r = requests.get(article[0], allow_redirects=True, headers=header)\n",
    "    #you might also consider prefixing all the pdfs with something to make them easier to find.\n",
    "    with open(article[1].replace(\" \",\"\")[:15]+ \".pdf\", 'wb') as fp:\n",
    "        fp.write(r.content)\n",
    "    time.sleep(10) #this time should be generous enough to avoid rate limits."
   ]
  },
  {
   "cell_type": "code",
   "execution_count": null,
   "metadata": {},
   "outputs": [],
   "source": []
  }
 ],
 "metadata": {
  "kernelspec": {
   "display_name": "Python 3",
   "language": "python",
   "name": "python3"
  },
  "language_info": {
   "codemirror_mode": {
    "name": "ipython",
    "version": 3
   },
   "file_extension": ".py",
   "mimetype": "text/x-python",
   "name": "python",
   "nbconvert_exporter": "python",
   "pygments_lexer": "ipython3",
   "version": "3.6.9"
  }
 },
 "nbformat": 4,
 "nbformat_minor": 2
}
